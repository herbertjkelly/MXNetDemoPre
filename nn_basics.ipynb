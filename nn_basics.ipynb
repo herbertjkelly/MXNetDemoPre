{
 "cells": [
  {
   "cell_type": "markdown",
   "metadata": {
    "deletable": true,
    "editable": true
   },
   "source": [
    "# Neural Network Basics\n",
    "\n",
    "Compiled by Sunil Mallya (@sunilmallya)"
   ]
  },
  {
   "cell_type": "markdown",
   "metadata": {
    "deletable": true,
    "editable": true
   },
   "source": [
    "# Basic Neural Network layout\n",
    "\n",
    "![](http://neuralnetworksanddeeplearning.com/images/tikz11.png)\n",
    "\n"
   ]
  },
  {
   "cell_type": "markdown",
   "metadata": {
    "deletable": true,
    "editable": true
   },
   "source": [
    "![](http://neuralnetworksanddeeplearning.com/images/tikz8.png)\n",
    "\n",
    "\n",
    "images from: http://neuralnetworksanddeeplearning.com/chap1.html"
   ]
  },
  {
   "cell_type": "markdown",
   "metadata": {},
   "source": [
    "## Neural Network Equation\n",
    "\n",
    "![](http://cs231n.github.io/assets/nn1/neuron_model.jpeg)\n",
    "\n",
    "img src http://cs231n.github.io/assets/nn1/neuron_model.jpeg"
   ]
  },
  {
   "cell_type": "markdown",
   "metadata": {},
   "source": [
    "## The Learning Process\n",
    "\n",
    "![](backprop.png)"
   ]
  },
  {
   "cell_type": "markdown",
   "metadata": {
    "deletable": true,
    "editable": true
   },
   "source": [
    "# Loss Functions and Optimizations\n",
    "\n",
    "\n",
    "![](sgd.png)\n"
   ]
  },
  {
   "cell_type": "markdown",
   "metadata": {
    "deletable": true,
    "editable": true
   },
   "source": [
    "# Layers\n",
    "\n",
    "\n",
    "## Multilayer perceptrons\n",
    "\n",
    "Here's where things start to get interesting. Before, we mapped our inputs directly onto our outputs through a single linear transformation. \n",
    "\n",
    "![](https://github.com/zackchase/mxnet-the-straight-dope/blob/master/img/simple-softmax-net.png?raw=true)\n",
    "\n",
    "This model is perfectly adequate when the underlying relationship between our data points and labels is approximately linear. When our data points and targets are characterized by a more complex relationship, a linear model and produce sucky results. We can model a more general class of functions by incorporating one or more *hidden layers*.\n",
    "\n",
    "![](https://github.com/zackchase/mxnet-the-straight-dope/blob/master/img/multilayer-perceptron.png?raw=true)\n",
    "\n",
    "Here, each layer will require it's own set of parameters. To make things simple here, we'll assume two hidden layers of computation."
   ]
  },
  {
   "cell_type": "markdown",
   "metadata": {},
   "source": [
    "### Word Embeddings\n",
    "\n",
    "Word Embedding turns text into numbers\n",
    "\n",
    "- ML Algorithms don't understand text, they require input to be vectors of continuous values\n",
    "\n",
    "- Benefits:\n",
    "    - Dimensionality Reduction \n",
    "    - Group similar words together (Contextual Similarity)\n",
    "    \n",
    "\n",
    "##### A common Embedding technique: Word2Vec\n",
    "\n",
    "https://github.com/saurabh3949/Word2Vec-MXNet/blob/master/Word2vec%2Bwith%2BGluon.ipynb\n",
    "\n",
    "![](word2vec_dist.png)\n",
    "\n",
    "##### [Embedding Visualization]\n",
    "https://ronxin.github.io/wevi/\n",
    "\n",
    "https://medium.com/towards-data-science/deep-learning-4-embedding-layers-f9a02d55ac12"
   ]
  },
  {
   "cell_type": "markdown",
   "metadata": {
    "deletable": true,
    "editable": true
   },
   "source": [
    "# MXNet cheat sheet\n",
    "\n",
    "\n",
    "PDF\n",
    "https://s3.amazonaws.com/aws-bigdata-blog/artifacts/apache_mxnet/apache-mxnet-cheat.pdf   \n",
    "\n",
    "https://aws.amazon.com/blogs/ai/exploiting-the-unique-features-of-the-apache-mxnet-deep-learning-framework-with-a-cheat-sheet/"
   ]
  },
  {
   "cell_type": "code",
   "execution_count": null,
   "metadata": {
    "collapsed": true,
    "deletable": true,
    "editable": true
   },
   "outputs": [],
   "source": [
    "\n",
    "\n"
   ]
  }
 ],
 "metadata": {
  "kernelspec": {
   "display_name": "Python 2",
   "language": "python",
   "name": "python2"
  },
  "language_info": {
   "codemirror_mode": {
    "name": "ipython",
    "version": 2
   },
   "file_extension": ".py",
   "mimetype": "text/x-python",
   "name": "python",
   "nbconvert_exporter": "python",
   "pygments_lexer": "ipython2",
   "version": "2.7.6"
  }
 },
 "nbformat": 4,
 "nbformat_minor": 2
}
