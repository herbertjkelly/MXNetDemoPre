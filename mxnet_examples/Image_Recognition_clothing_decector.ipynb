{
 "cells": [
  {
   "cell_type": "markdown",
   "metadata": {},
   "source": [
    "# Deep Learning Episode 3: Convolutional Neural Networks\n",
    "\n",
    "@sunilmallya\n",
    "\n",
    "@jrhunt"
   ]
  },
  {
   "cell_type": "markdown",
   "metadata": {},
   "source": [
    "## Load data\n",
    "\n",
    "We first fetch the [FMNIST](http://fashion-mnist.s3-website.eu-central-1.amazonaws.com/) dataset. \n",
    "\n",
    "\n",
    "Each image in this dataset has been resized into 28x28 with grayscale value between 0 and 254. The following codes download and load the images and the according labels into `numpy`."
   ]
  },
  {
   "cell_type": "code",
   "execution_count": 5,
   "metadata": {
    "collapsed": true
   },
   "outputs": [],
   "source": [
    "# copy helper code from: https://github.com/dmlc/mxnet-notebooks/blob/master/python/tutorials/mnist.ipynb\n",
    "\n",
    "import numpy as np\n",
    "import os\n",
    "import urllib\n",
    "import gzip\n",
    "import struct\n",
    "\n",
    "def download_data(url, force_download=True): \n",
    "    fname = url.split(\"/\")[-1]\n",
    "    if force_download or not os.path.exists(fname):\n",
    "        urllib.urlretrieve(url, fname)\n",
    "    return fname\n",
    "\n",
    "def read_data(label_url, image_url):\n",
    "    with gzip.open(download_data(label_url)) as flbl:\n",
    "        magic, num = struct.unpack(\">II\", flbl.read(8))\n",
    "        label = np.fromstring(flbl.read(), dtype=np.int8)\n",
    "    with gzip.open(download_data(image_url), 'rb') as fimg:\n",
    "        magic, num, rows, cols = struct.unpack(\">IIII\", fimg.read(16))\n",
    "        image = np.fromstring(fimg.read(), dtype=np.uint8).reshape(len(label), rows, cols)\n",
    "    return (label, image)\n",
    "\n",
    "path='http://fashion-mnist.s3-website.eu-central-1.amazonaws.com/'\n",
    "\n",
    "(train_lbl, train_img) = read_data(\n",
    "    path+'train-labels-idx1-ubyte.gz', path+'train-images-idx3-ubyte.gz')\n",
    "(val_lbl, val_img) = read_data(\n",
    "    path+'t10k-labels-idx1-ubyte.gz', path+'t10k-images-idx3-ubyte.gz')"
   ]
  },
  {
   "cell_type": "markdown",
   "metadata": {},
   "source": [
    "### Labels\n",
    "Each training and test example is assigned to one of the following labels:\n",
    "\n",
    "| Label | Description |\n",
    "| --- | --- |\n",
    "| 0 | T-shirt/top |\n",
    "| 1 | Trouser |\n",
    "| 2 | Pullover |\n",
    "| 3 | Dress |\n",
    "| 4 | Coat |\n",
    "| 5 | Sandal |\n",
    "| 6 | Shirt |\n",
    "| 7 | Sneaker |\n",
    "| 8 | Bag |\n",
    "| 9 | Ankle boot |"
   ]
  },
  {
   "cell_type": "code",
   "execution_count": 7,
   "metadata": {
    "collapsed": false
   },
   "outputs": [
    {
     "data": {
      "image/png": "[encoded data removed]",
      "text/plain": [
       "<matplotlib.figure.Figure at 0x7fc423981910>"
      ]
     },
     "metadata": {},
     "output_type": "display_data"
    }
   ],
   "source": [
    "import matplotlib.pyplot as plt\n",
    "%matplotlib inline\n",
    "\n",
    "for i in range(10):\n",
    "    plt.subplot(1,10,i+1)\n",
    "    plt.imshow(train_img[i], cmap='Greys_r')\n",
    "    plt.axis('off')\n",
    "    \n",
    "plt.show()"
   ]
  },
  {
   "cell_type": "code",
   "execution_count": 8,
   "metadata": {
    "collapsed": false
   },
   "outputs": [
    {
     "data": {
      "text/plain": [
       "(28, 28)"
      ]
     },
     "execution_count": 8,
     "metadata": {},
     "output_type": "execute_result"
    }
   ],
   "source": [
    "train_img[0].shape"
   ]
  },
  {
   "cell_type": "code",
   "execution_count": 17,
   "metadata": {
    "collapsed": false
   },
   "outputs": [
    {
     "data": {
      "text/plain": [
       "{'batch_size': 200,\n",
       " 'cursor': -200,\n",
       " 'data': [('data', <NDArray 60000x1x28x28 @cpu(0)>)],\n",
       " 'data_list': [<NDArray 60000x1x28x28 @cpu(0)>, <NDArray 60000 @cpu(0)>],\n",
       " 'label': [('softmax_label', <NDArray 60000 @cpu(0)>)],\n",
       " 'last_batch_handle': 'pad',\n",
       " 'num_data': 60000L,\n",
       " 'num_source': 2}"
      ]
     },
     "execution_count": 17,
     "metadata": {},
     "output_type": "execute_result"
    }
   ],
   "source": [
    "# Transform the data\n",
    "\n",
    "import mxnet as mx\n",
    "\n",
    "# 4D (batch_size, num_channels, width, height) ==> (bsize, 1, 28, 28)\n",
    "\n",
    "def to_4d(img):\n",
    "    return img.reshape(img.shape[0], 1, 28, 28).astype(np.float32)/255\n",
    "\n",
    "batch_size = 200\n",
    "\n",
    "train_iter = mx.io.NDArrayIter(to_4d(train_img), train_lbl, batch_size, shuffle=True)\n",
    "val_iter = mx.io.NDArrayIter(to_4d(val_img), val_lbl, batch_size)\n",
    "\n",
    "train_iter.__dict__"
   ]
  },
  {
   "cell_type": "code",
   "execution_count": 30,
   "metadata": {
    "collapsed": false
   },
   "outputs": [
    {
     "data": {
      "image/svg+xml": [
       "<?xml version=\"1.0\" encoding=\"UTF-8\" standalone=\"no\"?>\n",
       "<!DOCTYPE svg PUBLIC \"-//W3C//DTD SVG 1.1//EN\"\n",
       " \"http://www.w3.org/Graphics/SVG/1.1/DTD/svg11.dtd\">\n",
       "<!-- Generated by graphviz version 2.36.0 (20140111.2315)\n",
       " -->\n",
       "<!-- Title: plot Pages: 1 -->\n",
       "<svg width=\"214pt\" height=\"1606pt\"\n",
       " viewBox=\"0.00 0.00 214.00 1606.00\" xmlns=\"http://www.w3.org/2000/svg\" xmlns:xlink=\"http://www.w3.org/1999/xlink\">\n",
       "<g id=\"graph0\" class=\"graph\" transform=\"scale(1 1) rotate(0) translate(4 1602)\">\n",
       "<title>plot</title>\n",
       "<polygon fill=\"white\" stroke=\"none\" points=\"-4,4 -4,-1602 210,-1602 210,4 -4,4\"/>\n",
       "<!-- data -->\n",
       "<g id=\"node1\" class=\"node\"><title>data</title>\n",
       "<ellipse fill=\"#8dd3c7\" stroke=\"black\" cx=\"47\" cy=\"-29\" rx=\"47\" ry=\"29\"/>\n",
       "<text text-anchor=\"middle\" x=\"47\" y=\"-25.3\" font-family=\"Times,serif\" font-size=\"14.00\">data</text>\n",
       "</g>\n",
       "<!-- convolution7 -->\n",
       "<g id=\"node2\" class=\"node\"><title>convolution7</title>\n",
       "<polygon fill=\"#fb8072\" stroke=\"black\" points=\"94,-168 -7.10543e-15,-168 -7.10543e-15,-110 94,-110 94,-168\"/>\n",
       "<text text-anchor=\"middle\" x=\"47\" y=\"-142.8\" font-family=\"Times,serif\" font-size=\"14.00\">Convolution</text>\n",
       "<text text-anchor=\"middle\" x=\"47\" y=\"-127.8\" font-family=\"Times,serif\" font-size=\"14.00\">5x5/1, 30</text>\n",
       "</g>\n",
       "<!-- convolution7&#45;&gt;data -->\n",
       "<g id=\"edge1\" class=\"edge\"><title>convolution7&#45;&gt;data</title>\n",
       "<path fill=\"none\" stroke=\"black\" d=\"M47,-99.8131C47,-86.1516 47,-71.0092 47,-58.3283\"/>\n",
       "<polygon fill=\"black\" stroke=\"black\" points=\"47,-109.906 42.5001,-99.9062 47,-104.906 47.0001,-99.9062 47.0001,-99.9062 47.0001,-99.9062 47,-104.906 51.5001,-99.9062 47,-109.906 47,-109.906\"/>\n",
       "<text text-anchor=\"middle\" x=\"71\" y=\"-80.3\" font-family=\"Times,serif\" font-size=\"14.00\">1x28x28</text>\n",
       "</g>\n",
       "<!-- activation9 -->\n",
       "<g id=\"node3\" class=\"node\"><title>activation9</title>\n",
       "<polygon fill=\"#ffffb3\" stroke=\"black\" points=\"94,-278 -7.10543e-15,-278 -7.10543e-15,-220 94,-220 94,-278\"/>\n",
       "<text text-anchor=\"middle\" x=\"47\" y=\"-252.8\" font-family=\"Times,serif\" font-size=\"14.00\">Activation</text>\n",
       "<text text-anchor=\"middle\" x=\"47\" y=\"-237.8\" font-family=\"Times,serif\" font-size=\"14.00\">relu</text>\n",
       "</g>\n",
       "<!-- activation9&#45;&gt;convolution7 -->\n",
       "<g id=\"edge2\" class=\"edge\"><title>activation9&#45;&gt;convolution7</title>\n",
       "<path fill=\"none\" stroke=\"black\" d=\"M47,-209.813C47,-196.152 47,-181.009 47,-168.328\"/>\n",
       "<polygon fill=\"black\" stroke=\"black\" points=\"47,-219.906 42.5001,-209.906 47,-214.906 47.0001,-209.906 47.0001,-209.906 47.0001,-209.906 47,-214.906 51.5001,-209.906 47,-219.906 47,-219.906\"/>\n",
       "<text text-anchor=\"middle\" x=\"74.5\" y=\"-190.3\" font-family=\"Times,serif\" font-size=\"14.00\">30x24x24</text>\n",
       "</g>\n",
       "<!-- pooling7 -->\n",
       "<g id=\"node4\" class=\"node\"><title>pooling7</title>\n",
       "<polygon fill=\"#80b1d3\" stroke=\"black\" points=\"94,-388 -7.10543e-15,-388 -7.10543e-15,-330 94,-330 94,-388\"/>\n",
       "<text text-anchor=\"middle\" x=\"47\" y=\"-362.8\" font-family=\"Times,serif\" font-size=\"14.00\">Pooling</text>\n",
       "<text text-anchor=\"middle\" x=\"47\" y=\"-347.8\" font-family=\"Times,serif\" font-size=\"14.00\">max, 2x2/1</text>\n",
       "</g>\n",
       "<!-- pooling7&#45;&gt;activation9 -->\n",
       "<g id=\"edge3\" class=\"edge\"><title>pooling7&#45;&gt;activation9</title>\n",
       "<path fill=\"none\" stroke=\"black\" d=\"M47,-319.813C47,-306.152 47,-291.009 47,-278.328\"/>\n",
       "<polygon fill=\"black\" stroke=\"black\" points=\"47,-329.906 42.5001,-319.906 47,-324.906 47.0001,-319.906 47.0001,-319.906 47.0001,-319.906 47,-324.906 51.5001,-319.906 47,-329.906 47,-329.906\"/>\n",
       "<text text-anchor=\"middle\" x=\"74.5\" y=\"-300.3\" font-family=\"Times,serif\" font-size=\"14.00\">30x24x24</text>\n",
       "</g>\n",
       "<!-- convolution8 -->\n",
       "<g id=\"node5\" class=\"node\"><title>convolution8</title>\n",
       "<polygon fill=\"#fb8072\" stroke=\"black\" points=\"94,-498 -7.10543e-15,-498 -7.10543e-15,-440 94,-440 94,-498\"/>\n",
       "<text text-anchor=\"middle\" x=\"47\" y=\"-472.8\" font-family=\"Times,serif\" font-size=\"14.00\">Convolution</text>\n",
       "<text text-anchor=\"middle\" x=\"47\" y=\"-457.8\" font-family=\"Times,serif\" font-size=\"14.00\">5x5/1, 50</text>\n",
       "</g>\n",
       "<!-- convolution8&#45;&gt;pooling7 -->\n",
       "<g id=\"edge4\" class=\"edge\"><title>convolution8&#45;&gt;pooling7</title>\n",
       "<path fill=\"none\" stroke=\"black\" d=\"M47,-429.813C47,-416.152 47,-401.009 47,-388.328\"/>\n",
       "<polygon fill=\"black\" stroke=\"black\" points=\"47,-439.906 42.5001,-429.906 47,-434.906 47.0001,-429.906 47.0001,-429.906 47.0001,-429.906 47,-434.906 51.5001,-429.906 47,-439.906 47,-439.906\"/>\n",
       "<text text-anchor=\"middle\" x=\"74.5\" y=\"-410.3\" font-family=\"Times,serif\" font-size=\"14.00\">30x23x23</text>\n",
       "</g>\n",
       "<!-- activation10 -->\n",
       "<g id=\"node6\" class=\"node\"><title>activation10</title>\n",
       "<polygon fill=\"#ffffb3\" stroke=\"black\" points=\"94,-608 -7.10543e-15,-608 -7.10543e-15,-550 94,-550 94,-608\"/>\n",
       "<text text-anchor=\"middle\" x=\"47\" y=\"-582.8\" font-family=\"Times,serif\" font-size=\"14.00\">Activation</text>\n",
       "<text text-anchor=\"middle\" x=\"47\" y=\"-567.8\" font-family=\"Times,serif\" font-size=\"14.00\">relu</text>\n",
       "</g>\n",
       "<!-- activation10&#45;&gt;convolution8 -->\n",
       "<g id=\"edge5\" class=\"edge\"><title>activation10&#45;&gt;convolution8</title>\n",
       "<path fill=\"none\" stroke=\"black\" d=\"M47,-539.813C47,-526.152 47,-511.009 47,-498.328\"/>\n",
       "<polygon fill=\"black\" stroke=\"black\" points=\"47,-549.906 42.5001,-539.906 47,-544.906 47.0001,-539.906 47.0001,-539.906 47.0001,-539.906 47,-544.906 51.5001,-539.906 47,-549.906 47,-549.906\"/>\n",
       "<text text-anchor=\"middle\" x=\"74.5\" y=\"-520.3\" font-family=\"Times,serif\" font-size=\"14.00\">50x19x19</text>\n",
       "</g>\n",
       "<!-- pooling8 -->\n",
       "<g id=\"node7\" class=\"node\"><title>pooling8</title>\n",
       "<polygon fill=\"#80b1d3\" stroke=\"black\" points=\"94,-718 -7.10543e-15,-718 -7.10543e-15,-660 94,-660 94,-718\"/>\n",
       "<text text-anchor=\"middle\" x=\"47\" y=\"-692.8\" font-family=\"Times,serif\" font-size=\"14.00\">Pooling</text>\n",
       "<text text-anchor=\"middle\" x=\"47\" y=\"-677.8\" font-family=\"Times,serif\" font-size=\"14.00\">max, 2x2/1</text>\n",
       "</g>\n",
       "<!-- pooling8&#45;&gt;activation10 -->\n",
       "<g id=\"edge6\" class=\"edge\"><title>pooling8&#45;&gt;activation10</title>\n",
       "<path fill=\"none\" stroke=\"black\" d=\"M47,-649.813C47,-636.152 47,-621.009 47,-608.328\"/>\n",
       "<polygon fill=\"black\" stroke=\"black\" points=\"47,-659.906 42.5001,-649.906 47,-654.906 47.0001,-649.906 47.0001,-649.906 47.0001,-649.906 47,-654.906 51.5001,-649.906 47,-659.906 47,-659.906\"/>\n",
       "<text text-anchor=\"middle\" x=\"74.5\" y=\"-630.3\" font-family=\"Times,serif\" font-size=\"14.00\">50x19x19</text>\n",
       "</g>\n",
       "<!-- convolution9 -->\n",
       "<g id=\"node8\" class=\"node\"><title>convolution9</title>\n",
       "<polygon fill=\"#fb8072\" stroke=\"black\" points=\"94,-828 -7.10543e-15,-828 -7.10543e-15,-770 94,-770 94,-828\"/>\n",
       "<text text-anchor=\"middle\" x=\"47\" y=\"-802.8\" font-family=\"Times,serif\" font-size=\"14.00\">Convolution</text>\n",
       "<text text-anchor=\"middle\" x=\"47\" y=\"-787.8\" font-family=\"Times,serif\" font-size=\"14.00\">5x5/1, 50</text>\n",
       "</g>\n",
       "<!-- convolution9&#45;&gt;pooling8 -->\n",
       "<g id=\"edge7\" class=\"edge\"><title>convolution9&#45;&gt;pooling8</title>\n",
       "<path fill=\"none\" stroke=\"black\" d=\"M47,-759.813C47,-746.152 47,-731.009 47,-718.328\"/>\n",
       "<polygon fill=\"black\" stroke=\"black\" points=\"47,-769.906 42.5001,-759.906 47,-764.906 47.0001,-759.906 47.0001,-759.906 47.0001,-759.906 47,-764.906 51.5001,-759.906 47,-769.906 47,-769.906\"/>\n",
       "<text text-anchor=\"middle\" x=\"74.5\" y=\"-740.3\" font-family=\"Times,serif\" font-size=\"14.00\">50x18x18</text>\n",
       "</g>\n",
       "<!-- activation11 -->\n",
       "<g id=\"node9\" class=\"node\"><title>activation11</title>\n",
       "<polygon fill=\"#ffffb3\" stroke=\"black\" points=\"94,-938 -7.10543e-15,-938 -7.10543e-15,-880 94,-880 94,-938\"/>\n",
       "<text text-anchor=\"middle\" x=\"47\" y=\"-912.8\" font-family=\"Times,serif\" font-size=\"14.00\">Activation</text>\n",
       "<text text-anchor=\"middle\" x=\"47\" y=\"-897.8\" font-family=\"Times,serif\" font-size=\"14.00\">relu</text>\n",
       "</g>\n",
       "<!-- activation11&#45;&gt;convolution9 -->\n",
       "<g id=\"edge8\" class=\"edge\"><title>activation11&#45;&gt;convolution9</title>\n",
       "<path fill=\"none\" stroke=\"black\" d=\"M47,-869.813C47,-856.152 47,-841.009 47,-828.328\"/>\n",
       "<polygon fill=\"black\" stroke=\"black\" points=\"47,-879.906 42.5001,-869.906 47,-874.906 47.0001,-869.906 47.0001,-869.906 47.0001,-869.906 47,-874.906 51.5001,-869.906 47,-879.906 47,-879.906\"/>\n",
       "<text text-anchor=\"middle\" x=\"74.5\" y=\"-850.3\" font-family=\"Times,serif\" font-size=\"14.00\">50x14x14</text>\n",
       "</g>\n",
       "<!-- pooling9 -->\n",
       "<g id=\"node10\" class=\"node\"><title>pooling9</title>\n",
       "<polygon fill=\"#80b1d3\" stroke=\"black\" points=\"94,-1048 -7.10543e-15,-1048 -7.10543e-15,-990 94,-990 94,-1048\"/>\n",
       "<text text-anchor=\"middle\" x=\"47\" y=\"-1022.8\" font-family=\"Times,serif\" font-size=\"14.00\">Pooling</text>\n",
       "<text text-anchor=\"middle\" x=\"47\" y=\"-1007.8\" font-family=\"Times,serif\" font-size=\"14.00\">max, 2x2/1</text>\n",
       "</g>\n",
       "<!-- pooling9&#45;&gt;activation11 -->\n",
       "<g id=\"edge9\" class=\"edge\"><title>pooling9&#45;&gt;activation11</title>\n",
       "<path fill=\"none\" stroke=\"black\" d=\"M47,-979.813C47,-966.152 47,-951.009 47,-938.328\"/>\n",
       "<polygon fill=\"black\" stroke=\"black\" points=\"47,-989.906 42.5001,-979.906 47,-984.906 47.0001,-979.906 47.0001,-979.906 47.0001,-979.906 47,-984.906 51.5001,-979.906 47,-989.906 47,-989.906\"/>\n",
       "<text text-anchor=\"middle\" x=\"74.5\" y=\"-960.3\" font-family=\"Times,serif\" font-size=\"14.00\">50x14x14</text>\n",
       "</g>\n",
       "<!-- flatten2 -->\n",
       "<g id=\"node11\" class=\"node\"><title>flatten2</title>\n",
       "<polygon fill=\"#fdb462\" stroke=\"black\" points=\"94,-1158 -7.10543e-15,-1158 -7.10543e-15,-1100 94,-1100 94,-1158\"/>\n",
       "<text text-anchor=\"middle\" x=\"47\" y=\"-1125.3\" font-family=\"Times,serif\" font-size=\"14.00\">flatten2</text>\n",
       "</g>\n",
       "<!-- flatten2&#45;&gt;pooling9 -->\n",
       "<g id=\"edge10\" class=\"edge\"><title>flatten2&#45;&gt;pooling9</title>\n",
       "<path fill=\"none\" stroke=\"black\" d=\"M47,-1089.81C47,-1076.15 47,-1061.01 47,-1048.33\"/>\n",
       "<polygon fill=\"black\" stroke=\"black\" points=\"47,-1099.91 42.5001,-1089.91 47,-1094.91 47.0001,-1089.91 47.0001,-1089.91 47.0001,-1089.91 47,-1094.91 51.5001,-1089.91 47,-1099.91 47,-1099.91\"/>\n",
       "<text text-anchor=\"middle\" x=\"74.5\" y=\"-1070.3\" font-family=\"Times,serif\" font-size=\"14.00\">50x13x13</text>\n",
       "</g>\n",
       "<!-- fullyconnected4 -->\n",
       "<g id=\"node12\" class=\"node\"><title>fullyconnected4</title>\n",
       "<polygon fill=\"#fb8072\" stroke=\"black\" points=\"94,-1268 -7.10543e-15,-1268 -7.10543e-15,-1210 94,-1210 94,-1268\"/>\n",
       "<text text-anchor=\"middle\" x=\"47\" y=\"-1242.8\" font-family=\"Times,serif\" font-size=\"14.00\">FullyConnected</text>\n",
       "<text text-anchor=\"middle\" x=\"47\" y=\"-1227.8\" font-family=\"Times,serif\" font-size=\"14.00\">500</text>\n",
       "</g>\n",
       "<!-- fullyconnected4&#45;&gt;flatten2 -->\n",
       "<g id=\"edge11\" class=\"edge\"><title>fullyconnected4&#45;&gt;flatten2</title>\n",
       "<path fill=\"none\" stroke=\"black\" d=\"M47,-1199.81C47,-1186.15 47,-1171.01 47,-1158.33\"/>\n",
       "<polygon fill=\"black\" stroke=\"black\" points=\"47,-1209.91 42.5001,-1199.91 47,-1204.91 47.0001,-1199.91 47.0001,-1199.91 47.0001,-1199.91 47,-1204.91 51.5001,-1199.91 47,-1209.91 47,-1209.91\"/>\n",
       "<text text-anchor=\"middle\" x=\"61\" y=\"-1180.3\" font-family=\"Times,serif\" font-size=\"14.00\">8450</text>\n",
       "</g>\n",
       "<!-- activation12 -->\n",
       "<g id=\"node13\" class=\"node\"><title>activation12</title>\n",
       "<polygon fill=\"#ffffb3\" stroke=\"black\" points=\"94,-1378 -7.10543e-15,-1378 -7.10543e-15,-1320 94,-1320 94,-1378\"/>\n",
       "<text text-anchor=\"middle\" x=\"47\" y=\"-1352.8\" font-family=\"Times,serif\" font-size=\"14.00\">Activation</text>\n",
       "<text text-anchor=\"middle\" x=\"47\" y=\"-1337.8\" font-family=\"Times,serif\" font-size=\"14.00\">relu</text>\n",
       "</g>\n",
       "<!-- activation12&#45;&gt;fullyconnected4 -->\n",
       "<g id=\"edge12\" class=\"edge\"><title>activation12&#45;&gt;fullyconnected4</title>\n",
       "<path fill=\"none\" stroke=\"black\" d=\"M47,-1309.81C47,-1296.15 47,-1281.01 47,-1268.33\"/>\n",
       "<polygon fill=\"black\" stroke=\"black\" points=\"47,-1319.91 42.5001,-1309.91 47,-1314.91 47.0001,-1309.91 47.0001,-1309.91 47.0001,-1309.91 47,-1314.91 51.5001,-1309.91 47,-1319.91 47,-1319.91\"/>\n",
       "<text text-anchor=\"middle\" x=\"57.5\" y=\"-1290.3\" font-family=\"Times,serif\" font-size=\"14.00\">500</text>\n",
       "</g>\n",
       "<!-- fullyconnected5 -->\n",
       "<g id=\"node14\" class=\"node\"><title>fullyconnected5</title>\n",
       "<polygon fill=\"#fb8072\" stroke=\"black\" points=\"94,-1488 -7.10543e-15,-1488 -7.10543e-15,-1430 94,-1430 94,-1488\"/>\n",
       "<text text-anchor=\"middle\" x=\"47\" y=\"-1462.8\" font-family=\"Times,serif\" font-size=\"14.00\">FullyConnected</text>\n",
       "<text text-anchor=\"middle\" x=\"47\" y=\"-1447.8\" font-family=\"Times,serif\" font-size=\"14.00\">10</text>\n",
       "</g>\n",
       "<!-- fullyconnected5&#45;&gt;activation12 -->\n",
       "<g id=\"edge13\" class=\"edge\"><title>fullyconnected5&#45;&gt;activation12</title>\n",
       "<path fill=\"none\" stroke=\"black\" d=\"M47,-1419.81C47,-1406.15 47,-1391.01 47,-1378.33\"/>\n",
       "<polygon fill=\"black\" stroke=\"black\" points=\"47,-1429.91 42.5001,-1419.91 47,-1424.91 47.0001,-1419.91 47.0001,-1419.91 47.0001,-1419.91 47,-1424.91 51.5001,-1419.91 47,-1429.91 47,-1429.91\"/>\n",
       "<text text-anchor=\"middle\" x=\"57.5\" y=\"-1400.3\" font-family=\"Times,serif\" font-size=\"14.00\">500</text>\n",
       "</g>\n",
       "<!-- softmax_label -->\n",
       "<g id=\"node15\" class=\"node\"><title>softmax_label</title>\n",
       "<ellipse fill=\"#8dd3c7\" stroke=\"black\" cx=\"159\" cy=\"-1459\" rx=\"47\" ry=\"29\"/>\n",
       "<text text-anchor=\"middle\" x=\"159\" y=\"-1455.3\" font-family=\"Times,serif\" font-size=\"14.00\">softmax_label</text>\n",
       "</g>\n",
       "<!-- softmax -->\n",
       "<g id=\"node16\" class=\"node\"><title>softmax</title>\n",
       "<polygon fill=\"#fccde5\" stroke=\"black\" points=\"170,-1598 76,-1598 76,-1540 170,-1540 170,-1598\"/>\n",
       "<text text-anchor=\"middle\" x=\"123\" y=\"-1565.3\" font-family=\"Times,serif\" font-size=\"14.00\">softmax</text>\n",
       "</g>\n",
       "<!-- softmax&#45;&gt;fullyconnected5 -->\n",
       "<g id=\"edge14\" class=\"edge\"><title>softmax&#45;&gt;fullyconnected5</title>\n",
       "<path fill=\"none\" stroke=\"black\" d=\"M97.2538,-1531.41C87.3525,-1517.34 76.2083,-1501.51 66.9347,-1488.33\"/>\n",
       "<polygon fill=\"black\" stroke=\"black\" points=\"103.23,-1539.91 93.7952,-1534.32 100.353,-1535.82 97.4753,-1531.73 97.4753,-1531.73 97.4753,-1531.73 100.353,-1535.82 101.155,-1529.14 103.23,-1539.91 103.23,-1539.91\"/>\n",
       "<text text-anchor=\"middle\" x=\"97\" y=\"-1510.3\" font-family=\"Times,serif\" font-size=\"14.00\">10</text>\n",
       "</g>\n",
       "<!-- softmax&#45;&gt;softmax_label -->\n",
       "<g id=\"edge15\" class=\"edge\"><title>softmax&#45;&gt;softmax_label</title>\n",
       "<path fill=\"none\" stroke=\"black\" d=\"M135.648,-1530.06C140.313,-1516.06 145.505,-1500.48 149.807,-1487.58\"/>\n",
       "<polygon fill=\"black\" stroke=\"black\" points=\"132.365,-1539.91 131.258,-1529 133.946,-1535.16 135.527,-1530.42 135.527,-1530.42 135.527,-1530.42 133.946,-1535.16 139.796,-1531.84 132.365,-1539.91 132.365,-1539.91\"/>\n",
       "</g>\n",
       "</g>\n",
       "</svg>\n"
      ],
      "text/plain": [
       "<graphviz.dot.Digraph at 0x7fc423829bd0>"
      ]
     },
     "execution_count": 30,
     "metadata": {},
     "output_type": "execute_result"
    }
   ],
   "source": [
    "# Model\n",
    "\n",
    "data = mx.sym.Variable('data')\n",
    "#mxnet.symbol.Convolution(data=None, weight=None, bias=None, kernel=_Null, stride=_Null, dilate=_Null, pad=_Null, num_filter=_Null, num_group=_Null, workspace=_Null, no_bias=_Null, cudnn_tune=_Null, cudnn_off=_Null, layout=_Null, name=None, attr=None, out=None, **kwargs)¶\n",
    "\n",
    "# conv 1 layer\n",
    "conv1 = mx.sym.Convolution(data=data, kernel=(5,5), num_filter=30)\n",
    "act1 = mx.sym.Activation(data=conv1, act_type='relu')\n",
    "pool1 = mx.sym.Pooling(data=act1, pool_type=\"max\", kernel=(2,2))\n",
    "\n",
    "# conv 2 layer\n",
    "conv2 = mx.sym.Convolution(data=pool1, kernel=(5,5), num_filter=50)\n",
    "act2 = mx.sym.Activation(data=conv2, act_type='relu')\n",
    "pool2 = mx.sym.Pooling(data=act2, pool_type=\"max\", kernel=(2,2))\n",
    "\n",
    "# conv 3 layer\n",
    "conv3 = mx.sym.Convolution(data=pool2, kernel=(5,5), num_filter=50)\n",
    "act3 = mx.sym.Activation(data=conv3, act_type='relu')\n",
    "pool3 = mx.sym.Pooling(data=act3, pool_type=\"max\", kernel=(2,2))\n",
    "\n",
    "\n",
    "# Fully connected layer\n",
    "flatten = mx.sym.Flatten(pool3)\n",
    "fc1 = mx.sym.FullyConnected(data=flatten, num_hidden=500)\n",
    "act3 = mx.sym.Activation(data=fc1, act_type='relu')\n",
    "\n",
    "fc2 = mx.sym.FullyConnected(data=act3, num_hidden=10)\n",
    "\n",
    "lenet = mx.sym.SoftmaxOutput(data=fc2, name=\"softmax\")\n",
    "\n",
    "# Output layer\n",
    "\n",
    "shape = {\"data\": (batch_size, 1, 28, 28)}\n",
    "mx.viz.plot_network(lenet, shape=shape)"
   ]
  },
  {
   "cell_type": "code",
   "execution_count": 31,
   "metadata": {
    "collapsed": false
   },
   "outputs": [
    {
     "name": "stderr",
     "output_type": "stream",
     "text": [
      "WARNING:root:Already bound, ignoring bind()\n",
      "INFO:root:Epoch[0] Batch [200]\tSpeed: 9048.97 samples/sec\tTrain-accuracy=0.100299\n",
      "INFO:root:Epoch[0] Train-accuracy=0.097172\n",
      "INFO:root:Epoch[0] Time cost=6.640\n",
      "INFO:root:Epoch[0] Validation-accuracy=0.100000\n",
      "INFO:root:Epoch[1] Batch [200]\tSpeed: 9177.58 samples/sec\tTrain-accuracy=0.106294\n",
      "INFO:root:Epoch[1] Train-accuracy=0.167475\n",
      "INFO:root:Epoch[1] Time cost=6.534\n",
      "INFO:root:Epoch[1] Validation-accuracy=0.359800\n",
      "INFO:root:Epoch[2] Batch [200]\tSpeed: 9134.87 samples/sec\tTrain-accuracy=0.332289\n",
      "INFO:root:Epoch[2] Train-accuracy=0.640758\n",
      "INFO:root:Epoch[2] Time cost=6.542\n",
      "INFO:root:Epoch[2] Validation-accuracy=0.606100\n",
      "INFO:root:Epoch[3] Batch [200]\tSpeed: 9189.22 samples/sec\tTrain-accuracy=0.722687\n",
      "INFO:root:Epoch[3] Train-accuracy=0.758788\n",
      "INFO:root:Epoch[3] Time cost=6.521\n",
      "INFO:root:Epoch[3] Validation-accuracy=0.748600\n",
      "INFO:root:Epoch[4] Batch [200]\tSpeed: 9182.11 samples/sec\tTrain-accuracy=0.781667\n",
      "INFO:root:Epoch[4] Train-accuracy=0.798333\n",
      "INFO:root:Epoch[4] Time cost=6.512\n",
      "INFO:root:Epoch[4] Validation-accuracy=0.757200\n",
      "INFO:root:Epoch[5] Batch [200]\tSpeed: 9010.95 samples/sec\tTrain-accuracy=0.811269\n",
      "INFO:root:Epoch[5] Train-accuracy=0.823283\n",
      "INFO:root:Epoch[5] Time cost=6.678\n",
      "INFO:root:Epoch[5] Validation-accuracy=0.790300\n",
      "INFO:root:Epoch[6] Batch [200]\tSpeed: 8960.94 samples/sec\tTrain-accuracy=0.835373\n",
      "INFO:root:Epoch[6] Train-accuracy=0.843788\n",
      "INFO:root:Epoch[6] Time cost=6.716\n",
      "INFO:root:Epoch[6] Validation-accuracy=0.804100\n",
      "INFO:root:Epoch[7] Batch [200]\tSpeed: 8701.52 samples/sec\tTrain-accuracy=0.852040\n",
      "INFO:root:Epoch[7] Train-accuracy=0.858384\n",
      "INFO:root:Epoch[7] Time cost=6.769\n",
      "INFO:root:Epoch[7] Validation-accuracy=0.806800\n",
      "INFO:root:Epoch[8] Batch [200]\tSpeed: 9196.72 samples/sec\tTrain-accuracy=0.865672\n",
      "INFO:root:Epoch[8] Train-accuracy=0.869040\n",
      "INFO:root:Epoch[8] Time cost=6.521\n",
      "INFO:root:Epoch[8] Validation-accuracy=0.816200\n",
      "INFO:root:Epoch[9] Batch [200]\tSpeed: 9101.51 samples/sec\tTrain-accuracy=0.876194\n",
      "INFO:root:Epoch[9] Train-accuracy=0.878636\n",
      "INFO:root:Epoch[9] Time cost=6.569\n",
      "INFO:root:Epoch[9] Validation-accuracy=0.813000\n"
     ]
    }
   ],
   "source": [
    "# Train the model\n",
    "\n",
    "import logging\n",
    "logging.getLogger().setLevel(logging.DEBUG)\n",
    "\n",
    "ctx = [mx.gpu(i) for i in range(2)]\n",
    "num_epoch = 10\n",
    "\n",
    "net = mx.mod.Module(symbol=lenet, context=ctx)\n",
    "net.bind(data_shapes=[train_iter.provide_data[0]], label_shapes=[train_iter.provide_label[0]])\n",
    "\n",
    "net.fit(train_iter,\n",
    "       val_iter,\n",
    "       optimizer=\"sgd\",\n",
    "       optimizer_params={'learning_rate' : 0.1},\n",
    "       eval_metric='acc',\n",
    "       batch_end_callback=mx.callback.Speedometer(batch_size, 200),\n",
    "       num_epoch=num_epoch\n",
    "       )"
   ]
  },
  {
   "cell_type": "code",
   "execution_count": 32,
   "metadata": {
    "collapsed": false
   },
   "outputs": [
    {
     "data": {
      "image/png": "[encoded data removed]",
      "text/plain": [
       "<matplotlib.figure.Figure at 0x7fc42368ded0>"
      ]
     },
     "metadata": {},
     "output_type": "display_data"
    },
    {
     "name": "stdout",
     "output_type": "stream",
     "text": [
      "predicted: 8 , probability: 0.930137 \n"
     ]
    }
   ],
   "source": [
    "\n",
    "# prediction function\n",
    "\n",
    "idx = 30; \n",
    "plt.imshow(val_img[idx], cmap='Greys_r')\n",
    "plt.axis('off')\n",
    "plt.show()\n",
    "\n",
    "preds = net.predict(val_iter)\n",
    "prob = preds[idx].asnumpy()\n",
    "\n",
    "print \"predicted: %d , probability: %f \" % (prob.argmax(), max(prob))"
   ]
  },
  {
   "cell_type": "code",
   "execution_count": null,
   "metadata": {
    "collapsed": true
   },
   "outputs": [],
   "source": []
  }
 ],
 "metadata": {
  "kernelspec": {
   "display_name": "Python 2",
   "language": "python",
   "name": "python2"
  },
  "language_info": {
   "codemirror_mode": {
    "name": "ipython",
    "version": 2
   },
   "file_extension": ".py",
   "mimetype": "text/x-python",
   "name": "python",
   "nbconvert_exporter": "python",
   "pygments_lexer": "ipython2",
   "version": "2.7.6"
  }
 },
 "nbformat": 4,
 "nbformat_minor": 2
}
